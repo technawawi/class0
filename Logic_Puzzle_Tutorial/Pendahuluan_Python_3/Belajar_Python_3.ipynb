{
  "nbformat": 4,
  "nbformat_minor": 0,
  "metadata": {
    "colab": {
      "provenance": []
    },
    "kernelspec": {
      "name": "python3",
      "display_name": "Python 3"
    },
    "language_info": {
      "name": "python"
    }
  },
  "cells": [
    {
      "cell_type": "markdown",
      "source": [
        "**Belajar Python 3**"
      ],
      "metadata": {
        "id": "h9V9N27PMXaP"
      }
    },
    {
      "cell_type": "code",
      "source": [
        "# Cetak dengan baris baru\n",
        "print('di bawah ini: Cetak dengan baris baru')\n",
        "print('Hello')\n",
        "print('World!')\n",
        "\n",
        "# Cetak tanpa baris baru\n",
        "print('di bawah ini: Cetak dengan baris baru')\n",
        "print('Hello', end=' ')\n",
        "print('World!')\n",
        "\n",
        "# Variabel\n",
        "print('di bawah ini: Variabel')\n",
        "x = 1\n",
        "print(x)\n",
        "x = 5\n",
        "print(x)\n",
        "x = 'Ini Variabel'\n",
        "print(x)\n",
        "\n",
        "# Operasi matematika\n",
        "print('di bawah ini: Operasi matematika')\n",
        "print(10 * 6)\n",
        "print(10 / 6)\n",
        "print(10 // 6)\n",
        "print(10 + 6)\n",
        "print(10 - 6)\n",
        "print(10 % 6)\n",
        "\n",
        "# Perulangan\n",
        "print('di bawah ini: Perulangan 1 parameter')\n",
        "for i in range(2):\n",
        "  print(i)\n",
        "print('di bawah ini: Perulangan 2 parameter')\n",
        "for i in range(2, 4):\n",
        "  print(i)\n",
        "\n",
        "# Pengkondisian\n",
        "print('di bawah ini: Pengkondisian')\n",
        "if (1 + 2) == 4:\n",
        "  print('Benar')\n",
        "else:\n",
        "  print('Salah')\n",
        "\n",
        "# Pengkondisian dengan boolean\n",
        "print('di bawah ini: Pengkondisian dengan boolean')\n",
        "if(2 - 1) == 1 and (3 % 2) == 1:\n",
        "  print('Benar')\n",
        "else:\n",
        "  print('Salah')\n",
        "\n",
        "# Fungsi\n",
        "print('di bawah ini: Fungsi')\n",
        "def greet(name):\n",
        "  print('Hello {}'.format(name))\n",
        "\n",
        "greet('Ibnu')"
      ],
      "metadata": {
        "colab": {
          "base_uri": "https://localhost:8080/"
        },
        "id": "krrflMu6MrGP",
        "outputId": "e2b835c2-c967-4a40-fe65-377dc660627e"
      },
      "execution_count": 19,
      "outputs": [
        {
          "output_type": "stream",
          "name": "stdout",
          "text": [
            "di bawah ini: Cetak dengan baris baru\n",
            "Hello\n",
            "World!\n",
            "di bawah ini: Cetak dengan baris baru\n",
            "Hello World!\n",
            "di bawah ini: Variabel\n",
            "1\n",
            "5\n",
            "Ini Variabel\n",
            "di bawah ini: Operasi matematika\n",
            "60\n",
            "1.6666666666666667\n",
            "1\n",
            "16\n",
            "4\n",
            "4\n",
            "di bawah ini: Perulangan 1 parameter\n",
            "0\n",
            "1\n",
            "di bawah ini: Perulangan 2 parameter\n",
            "2\n",
            "3\n",
            "di bawah ini: Pengkondisian\n",
            "Salah\n",
            "di bawah ini: Pengkondisian dengan boolean\n",
            "Benar\n",
            "di bawah ini: Fungsi\n",
            "Hello Ibnu\n"
          ]
        }
      ]
    },
    {
      "cell_type": "code",
      "source": [],
      "metadata": {
        "id": "sbORTAk1Rve6"
      },
      "execution_count": null,
      "outputs": []
    }
  ]
}