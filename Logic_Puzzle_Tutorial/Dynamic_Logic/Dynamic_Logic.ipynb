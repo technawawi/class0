{
  "cells": [
    {
      "cell_type": "markdown",
      "metadata": {
        "id": "0EYQZOmHvU-X"
      },
      "source": [
        "# **Dynamic Logic**"
      ]
    },
    {
      "cell_type": "code",
      "execution_count": 32,
      "metadata": {
        "colab": {
          "base_uri": "https://localhost:8080/"
        },
        "id": "1dECOSDjJkZb",
        "outputId": "c2172809-e602-48c5-8481-450955597516"
      },
      "outputs": [
        {
          "output_type": "stream",
          "name": "stdout",
          "text": [
            "==== DYNAMIC LOGIC ====\n",
            "!!! Berapapun Angkanya Logic Harus Tetap Sama !!!\n",
            "\n",
            "\n",
            "1. Memakan Variabel\n",
            "*       *\n",
            " *     * \n",
            "  *   *  \n",
            "   * *   \n",
            "    *    \n",
            "   * *   \n",
            "  *   *  \n",
            " *     * \n",
            "*       *\n",
            "\n",
            "\n",
            "2. Memakai Fungsi\n",
            "*-------*\n",
            "-*-----*-\n",
            "--*---*--\n",
            "---*-*---\n",
            "----*----\n",
            "---*-*---\n",
            "--*---*--\n",
            "-*-----*-\n",
            "*-------*\n"
          ]
        }
      ],
      "source": [
        "print('==== DYNAMIC LOGIC ====')\n",
        "print('!!! Berapapun Angkanya Logic Harus Tetap Sama !!!')\n",
        "print('\\n')\n",
        "\n",
        "print('1. Memakan Variabel')\n",
        "SIZE = 10\n",
        "\n",
        "for row in range(1, SIZE):\n",
        "  for col in range(1, SIZE):\n",
        "    print('*' if((row == col) or (row + col == SIZE)) else ' ', end = '')\n",
        "  print()\n",
        "print('\\n')\n",
        "\n",
        "\n",
        "print('2. Memakai Fungsi')\n",
        "def print_x(n):\n",
        "  n = n if n % 2 == 0 else n + 1 # !!! Berapapun Angkanya Logic Harus Tetap Sama !!!\n",
        "  for row in range(1, n):\n",
        "    for col in range(1, n):\n",
        "      print('*' if((row == col) or (row + col == n)) else '-', end = '')\n",
        "    print()\n",
        "\n",
        "print_x(10)"
      ]
    },
    {
      "cell_type": "code",
      "source": [],
      "metadata": {
        "id": "fjmSarr178yN"
      },
      "execution_count": null,
      "outputs": []
    }
  ],
  "metadata": {
    "colab": {
      "provenance": []
    },
    "kernelspec": {
      "display_name": "Python 3",
      "name": "python3"
    },
    "language_info": {
      "name": "python"
    }
  },
  "nbformat": 4,
  "nbformat_minor": 0
}